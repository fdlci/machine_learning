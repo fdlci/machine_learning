{
 "cells": [
  {
   "cell_type": "markdown",
   "metadata": {},
   "source": [
    "# Lab 8: Graphical Models"
   ]
  },
  {
   "cell_type": "markdown",
   "metadata": {},
   "source": [
    "The goal of this lab session is to code two methods to estimate the structure of undirected gaussian graphical models and compare them.\n",
    "\n",
    "You have to send the filled notebook named **\"L8_familyname1_familyname2.ipynb\"** (groups of 2) by email to aml.centralesupelec.2019@gmail.com before December 12, 2019 at 23:59 and put **\"AML-L8\"** as subject. \n",
    "\n",
    "We begin with the standard imports:"
   ]
  },
  {
   "cell_type": "code",
   "execution_count": 1,
   "metadata": {},
   "outputs": [],
   "source": [
    "import numpy as np\n",
    "import matplotlib.pyplot as plt\n",
    "import seaborn as sns\n",
    "import sklearn\n",
    "import networkx as nx\n",
    "import scipy\n",
    "%matplotlib inline\n",
    "sns.set_context('poster')\n",
    "sns.set_color_codes()\n",
    "plot_kwds = {'alpha' : 0.25, 's' : 80, 'linewidths':0}"
   ]
  },
  {
   "cell_type": "markdown",
   "metadata": {},
   "source": [
    "## Graphical Models"
   ]
  },
  {
   "cell_type": "markdown",
   "metadata": {},
   "source": [
    "A graphical model is a probabilistic model for which a graph expresses the conditional dependence structure between random variables. The variables are represented by nodes and the relations between them are represented by edges.\n",
    "\n",
    "### GLasso\n",
    "\n",
    "Graphical Lasso is the name of the optimization problem that estimates the precision matrix of a multivariate gaussian and its name comes from the direct link with graphical models and the regularization term. \n",
    "\n",
    "Fill in the following class that implements the GLasso algorithm optimized by ADMM:"
   ]
  },
  {
   "cell_type": "code",
   "execution_count": 64,
   "metadata": {},
   "outputs": [],
   "source": [
    "class MyGraphicalLasso():\n",
    "    \n",
    "    def __init__(self, alpha, mu, max_iter = 60):\n",
    "        '''\n",
    "        Parameters:\n",
    "        alpha : float\n",
    "            Penalization parameter selected.\n",
    "        mu: float>0\n",
    "\n",
    "        Attributes:\n",
    "        \n",
    "        covariance_ : numpy.ndarray, shape (n_features, n_features)\n",
    "            Estimated covariance matrix.\n",
    "        precision_ : numpy.ndarray, shape (n_features, n_features)\n",
    "            Estimated precision matrix (inverse covariance).\n",
    "        '''\n",
    "        self.covariance_ = None\n",
    "        self.precision_ = None\n",
    "        self.alpha = alpha\n",
    "        self.mu = mu\n",
    "        self.max_iter = max_iter\n",
    "        self.graph_structure_ = None\n",
    "        #self.tol = tol\n",
    "\n",
    "    def function(self, X, nu):\n",
    "        eig_values, eig_vectors = np.linalg.eig(X)\n",
    "        new_eig_values = (eig_values + np.sqrt(eig_values**2 + 4/nu))/2\n",
    "        return eig_vectors.T @ np.diag(new_eig_values) @ eig_vectors\n",
    "        \n",
    "    def soft_thresholding(self, G, Z, c):\n",
    "        return np.multiply(np.sign(G+Z), np.maximum(0, np.absolute(G+Z) - c))\n",
    "        \n",
    "    def fit(self, X):\n",
    "        \"\"\" Fits the GraphicalLasso model to X.\n",
    "        \n",
    "        Parameters:\n",
    "        -----------\n",
    "        X: (n, p) np.array\n",
    "            Data matrix\n",
    "        \n",
    "        Returns:\n",
    "        -----\n",
    "        self\n",
    "        \"\"\"         \n",
    "\n",
    "        n, p = X.shape\n",
    "        Y = np.eye(p)\n",
    "        Z = np.eye(p)\n",
    "        mu_hat = (1/n)*np.mean(X, axis = 0)\n",
    "        S = np.zeros((p,p))\n",
    "        for i in range(n):\n",
    "            X_center = (X[i] - mu_hat).reshape(-1,1)\n",
    "            S += X_center@X_center.T\n",
    "        S /= n  \n",
    "        iteration = 0\n",
    "        # until convergence:\n",
    "        while iteration < self.max_iter:\n",
    "            iteration += 1\n",
    "            matrix = Y-Z-S/self.mu\n",
    "            Gamma = self.function(matrix, self.mu)\n",
    "            Y = self.soft_thresholding(Gamma, Z, self.alpha/self.mu)\n",
    "            Z = Z + self.mu*(Gamma - Y)\n",
    "        self.precision_ = self.graph_structure_ = Gamma\n",
    "        return self\n",
    "    \n",
    "    def get_params(self, deep=True):\n",
    "        return {\n",
    "            \"alpha\": self.alpha,\n",
    "            \"mu\": self.mu,\n",
    "            \"max_iter\": self.max_iter,\n",
    "#             \"tol\": self.tol\n",
    "        }\n",
    "    \n",
    "    def set_params(self, **params):\n",
    "        if \"alpha\" in params:\n",
    "            self.alpha_ = params[\"alpha\"]\n",
    "        if \"mu\" in params:\n",
    "            self.mu_ = params[\"mu\"]\n",
    "        return self"
   ]
  },
  {
   "cell_type": "code",
   "execution_count": 3,
   "metadata": {},
   "outputs": [
    {
     "name": "stdout",
     "output_type": "stream",
     "text": [
      "[[1. 2.]\n",
      " [4. 5.]]\n"
     ]
    }
   ],
   "source": [
    "X = np.array([[1,2],[4,5]])\n",
    "u, s, vh = np.linalg.svd(X)\n",
    "\n",
    "print(u@np.diag(s)@vh)"
   ]
  },
  {
   "cell_type": "code",
   "execution_count": 63,
   "metadata": {},
   "outputs": [
    {
     "name": "stdout",
     "output_type": "stream",
     "text": [
      "Estimating the precision matrix from 60 samples... \n",
      "\n"
     ]
    },
    {
     "data": {
      "image/png": "[encoded data removed]",
      "text/plain": [
       "<Figure size 1080x360 with 4 Axes>"
      ]
     },
     "metadata": {
      "needs_background": "light"
     },
     "output_type": "display_data"
    }
   ],
   "source": [
    "# Compare methods of estimating the covariance matrix in low-sample regime\n",
    "n_samples = 60\n",
    "n_features = 20\n",
    "\n",
    "print(f'Estimating the precision matrix from {n_samples} samples... \\n')\n",
    "\n",
    "\n",
    "# Simulate data (multivariate gaussian)\n",
    "from sklearn.datasets import make_sparse_spd_matrix\n",
    "rng = np.random.RandomState(1)\n",
    "prec = make_sparse_spd_matrix(n_features, alpha=.98,\n",
    "                              smallest_coef=.4,\n",
    "                              largest_coef=.7,\n",
    "                              random_state=rng)\n",
    "cov = np.linalg.inv(prec)\n",
    "mean = np.zeros(n_features)\n",
    "data = np.random.multivariate_normal(mean, cov, n_samples)\n",
    "err = np.linalg.norm(prec - prec)\n",
    "\n",
    "prec_empirical = np.linalg.inv(np.dot(data.T, data) / n_samples)\n",
    "err_empirical = np.linalg.norm(prec - prec_empirical)\n",
    "\n",
    "# Graphical Lasso with cross validation \n",
    "from sklearn.covariance import GraphicalLassoCV\n",
    "model = GraphicalLassoCV(cv=5)\n",
    "model.fit(data)\n",
    "prec_glassocv = model.precision_\n",
    "err_glassocv = np.linalg.norm(prec - prec_glassocv)\n",
    "\n",
    "# Graphical Lasso estimation using our implementation\n",
    "model = MyGraphicalLasso(alpha = 0.12, mu = 0.5)\n",
    "#model = MyGraphicalLasso(alpha = 0.01, nu = 0.5)\n",
    "model.fit(data)\n",
    "prec_glasso = model.precision_\n",
    "err_glasso = np.linalg.norm(prec - prec_glasso)\n",
    "vmax = prec_glasso.max()\n",
    "\n",
    "\n",
    "# Visual comparison\n",
    "titles = [\"True\", \"Empirical\", \"GLASSO (us)\", \"GLASSO crossval\"]\n",
    "imgs = [prec, prec_empirical, prec_glasso, prec_glassocv]\n",
    "errors = [err, err_empirical, err_glasso, err_glassocv]\n",
    "\n",
    "ncols = len(titles)\n",
    "fig, axes = plt.subplots(1, ncols, figsize=(15, 5))\n",
    "for idx, ax in enumerate(axes.flatten()):\n",
    "    img = imgs[idx]\n",
    "    error = np.around(errors[idx], decimals=2)\n",
    "    title = titles[idx] + f'\\n error {error}'\n",
    "    ax.imshow(img, vmin=-vmax, vmax=vmax, interpolation='nearest', cmap=plt.cm.RdBu_r)\n",
    "    ax.set_title(title)\n",
    "fig.tight_layout()"
   ]
  },
  {
   "cell_type": "markdown",
   "metadata": {},
   "source": [
    "Comment on the different methods' ability to recover the precision matrix structure and what that means in terms of the graph between features. "
   ]
  },
  {
   "cell_type": "markdown",
   "metadata": {},
   "source": [
    "### Nodewise Regression\n",
    "\n",
    "Fill in the following class that implements the nodewise regression algorithm to estimate a graphical model structure. You can use `LassoCV` for the regressions. Bonus (not graded): Implement your own cross-validation lasso."
   ]
  },
  {
   "cell_type": "code",
   "execution_count": 29,
   "metadata": {},
   "outputs": [],
   "source": [
    "from sklearn.linear_model import LassoCV\n",
    "\n",
    "class my_nodewise_regression():\n",
    "    \n",
    "    def __init__(self, rule, alpha):\n",
    "        '''\n",
    "        Parameters:\n",
    "        \n",
    "        rule: {\"OR\", \"AND\"}\n",
    "        \n",
    "        Attributes:\n",
    "        \n",
    "        covariance_structure_ : numpy.ndarray, shape (n_features, n_features)\n",
    "            Estimated covariance matrix.        \n",
    "        '''\n",
    "        self.graph_structure_ = None\n",
    "        self.rule = rule\n",
    "        self.alpha = alpha\n",
    "        \n",
    "    def fit(self, X):\n",
    "        \"\"\" Fit the model to X.\n",
    "        \n",
    "        Parameters:\n",
    "        -----------\n",
    "        X: (n, p) np.array\n",
    "            Data matrix\n",
    "        \n",
    "        Returns:\n",
    "        -----\n",
    "        self\n",
    "        \"\"\"         \n",
    "        # TODO:\n",
    "        # Estimate the precision structure\n",
    "        n = X.shape[1]\n",
    "        beta = np.zeros((n,n))\n",
    "        for j in range(n):\n",
    "            y = X[:,j]\n",
    "            x = np.delete(X, j, axis = 1)\n",
    "            regression = sklearn.linear_model.Lasso(alpha=self.alpha)\n",
    "            regression.fit(X=x, y=y)\n",
    "            beta[j, :j], beta[j, j+1:] = regression.coef_[:j], regression.coef_[j:]\n",
    "            if self.rule == \"OR\":\n",
    "                beta = np.absolute(beta) > 0\n",
    "                adj = beta | beta.T\n",
    "                \n",
    "            elif self.rule == \"AND\":\n",
    "                beta = np.absolute(beta) > 0\n",
    "                adj = beta & beta.T\n",
    "        #print(adj)\n",
    "        self.graph_structure_ = adj\n",
    "        return self\n"
   ]
  },
  {
   "cell_type": "markdown",
   "metadata": {},
   "source": [
    "Generate an easy-to-check (non-trivial, p<=6) example and plot the 4 (real, GLasso, AND, OR) graphs. You can use `networkx` to plot the resulting graph."
   ]
  },
  {
   "cell_type": "code",
   "execution_count": 16,
   "metadata": {},
   "outputs": [
    {
     "name": "stdout",
     "output_type": "stream",
     "text": [
      "[[ 0.55555556 -0.44444444  0.        ]\n",
      " [-0.44444444  0.55555556  0.        ]\n",
      " [ 0.          0.          1.        ]]\n"
     ]
    }
   ],
   "source": [
    "mu = [0, 1, -1]\n",
    "cov = np.array([\n",
    "    [1,2,0],\n",
    "    [2,1,0],\n",
    "    [0,0,1]\n",
    "])\n",
    "cov = cov.T@cov\n",
    "X = np.array([np.random.multivariate_normal(mu, cov) for i in range(50)])\n",
    "precision_matrix = np.linalg.inv(cov)   #matrix K connections of the graph\n",
    "print(precision_matrix) "
   ]
  },
  {
   "cell_type": "markdown",
   "metadata": {},
   "source": [
    "## Testing the Models"
   ]
  },
  {
   "cell_type": "code",
   "execution_count": 1,
   "metadata": {},
   "outputs": [
    {
     "ename": "NameError",
     "evalue": "name 'MyGraphicalLasso' is not defined",
     "output_type": "error",
     "traceback": [
      "\u001b[1;31m---------------------------------------------------------------------------\u001b[0m",
      "\u001b[1;31mNameError\u001b[0m                                 Traceback (most recent call last)",
      "\u001b[1;32m<ipython-input-1-b6b4965b1885>\u001b[0m in \u001b[0;36m<module>\u001b[1;34m\u001b[0m\n\u001b[1;32m----> 1\u001b[1;33m \u001b[0mmodel_glasso\u001b[0m \u001b[1;33m=\u001b[0m \u001b[0mMyGraphicalLasso\u001b[0m\u001b[1;33m(\u001b[0m\u001b[0malpha\u001b[0m\u001b[1;33m=\u001b[0m\u001b[1;36m0.4\u001b[0m\u001b[1;33m,\u001b[0m \u001b[0mmu\u001b[0m\u001b[1;33m=\u001b[0m\u001b[1;36m1\u001b[0m\u001b[1;33m)\u001b[0m\u001b[1;33m\u001b[0m\u001b[1;33m\u001b[0m\u001b[0m\n\u001b[0m\u001b[0;32m      2\u001b[0m \u001b[0mmodel_glasso\u001b[0m\u001b[1;33m.\u001b[0m\u001b[0mfit\u001b[0m\u001b[1;33m(\u001b[0m\u001b[0mX\u001b[0m\u001b[1;33m)\u001b[0m\u001b[1;33m\u001b[0m\u001b[1;33m\u001b[0m\u001b[0m\n\u001b[0;32m      3\u001b[0m \u001b[1;33m\u001b[0m\u001b[0m\n\u001b[0;32m      4\u001b[0m \u001b[0mmodel_nor\u001b[0m \u001b[1;33m=\u001b[0m \u001b[0mmy_nodewise_regression\u001b[0m\u001b[1;33m(\u001b[0m\u001b[0mrule\u001b[0m\u001b[1;33m=\u001b[0m\u001b[1;34m\"OR\"\u001b[0m\u001b[1;33m,\u001b[0m \u001b[0malpha\u001b[0m\u001b[1;33m=\u001b[0m\u001b[1;36m1\u001b[0m\u001b[1;33m)\u001b[0m\u001b[1;33m\u001b[0m\u001b[1;33m\u001b[0m\u001b[0m\n\u001b[0;32m      5\u001b[0m \u001b[0mmodel_nor\u001b[0m\u001b[1;33m.\u001b[0m\u001b[0mfit\u001b[0m\u001b[1;33m(\u001b[0m\u001b[0mX\u001b[0m\u001b[1;33m)\u001b[0m\u001b[1;33m\u001b[0m\u001b[1;33m\u001b[0m\u001b[0m\n",
      "\u001b[1;31mNameError\u001b[0m: name 'MyGraphicalLasso' is not defined"
     ]
    }
   ],
   "source": [
    "model_glasso = MyGraphicalLasso(alpha=0.4, mu=1)\n",
    "model_glasso.fit(X)\n",
    "\n",
    "model_nor = my_nodewise_regression(rule=\"OR\", alpha=1)\n",
    "model_nor.fit(X)\n",
    "\n",
    "model_nand = my_nodewise_regression(rule=\"AND\", alpha=1)\n",
    "model_nand.fit(X)"
   ]
  },
  {
   "cell_type": "code",
   "execution_count": 18,
   "metadata": {},
   "outputs": [],
   "source": [
    "def drawing_graph(model, node_labels=True, edge_labels=True):\n",
    "    K = model.graph_structure_\n",
    "    G = nx.Graph()\n",
    "    G.add_nodes_from(range(K.shape[0]))\n",
    "    nonzeros = list(zip(*np.nonzero(K), [{\"weight\": K[nz]} for nz in zip(*np.nonzero(K))]))\n",
    "    G.add_edges_from(nonzeros)\n",
    "\n",
    "    pos = nx.circular_layout(G)\n",
    "    nx.draw_networkx_nodes(G, pos, alpha=0.8)\n",
    "    nx.draw_networkx_edges(G, pos, label=None, alpha=0.5)\n",
    "    if node_labels:\n",
    "        nx.draw_networkx_labels(G, pos)\n",
    "    if edge_labels:\n",
    "        edge_labels = {(u, v): \"{:.3f}\".format(d) for (u,v,d) in G.edges(data=\"weight\") if u != v}\n",
    "        nx.draw_networkx_edge_labels(G, pos, edge_labels)\n",
    "        \n",
    "def true_graph(K, node_labels=True, edge_labels=True):\n",
    "    G = nx.Graph()\n",
    "    G.add_nodes_from(range(K.shape[0]))\n",
    "\n",
    "    nonzeros = list(zip(*np.nonzero(K), [{\"weight\": K[nz]} for nz in zip(*np.nonzero(K))]))\n",
    "    G.add_edges_from(nonzeros)\n",
    "\n",
    "    pos = nx.circular_layout(G)\n",
    "    nx.draw_networkx_nodes(G, pos, alpha=0.8)\n",
    "    nx.draw_networkx_edges(G, pos, label=None, alpha=0.5)\n",
    "    if node_labels:\n",
    "        nx.draw_networkx_labels(G, pos)\n",
    "    if edge_labels:\n",
    "        edge_labels = {(u, v): \"{:.3f}\".format(d) for (u,v,d) in G.edges(data=\"weight\") if u != v}\n",
    "        nx.draw_networkx_edge_labels(G, pos, edge_labels)"
   ]
  },
  {
   "cell_type": "code",
   "execution_count": 19,
   "metadata": {},
   "outputs": [
    {
     "data": {
      "image/png": "[encoded data removed]",
      "text/plain": [
       "<Figure size 1080x720 with 4 Axes>"
      ]
     },
     "metadata": {},
     "output_type": "display_data"
    }
   ],
   "source": [
    "plt.figure(figsize=(15,10))\n",
    "\n",
    "plt.subplot(221)\n",
    "true_graph(precision_matrix)\n",
    "plt.title(\"True GGM\")\n",
    "plt.subplot(222)\n",
    "drawing_graph(model_glasso)\n",
    "plt.title(\"GLasso\")\n",
    "plt.subplot(223)\n",
    "drawing_graph(model_nand)\n",
    "plt.title(\"AND Nodewise regression\")\n",
    "plt.subplot(224)\n",
    "drawing_graph(model_nor)\n",
    "plt.title(\"OR Nodewise regression\")\n",
    "plt.show()"
   ]
  },
  {
   "cell_type": "markdown",
   "metadata": {},
   "source": [
    "## Simulations\n",
    "\n",
    "Compare the two graph estimators for each of the following models with $p = 300$ and $n = 40, 80, 320$:\n",
    "\n",
    "- An AR(1)-Block model. In this model the *covariance* matrix is block-diagonal with equalsized AR(1)-blocks of the form $(\\Sigma_{Block})_{i, j} = 0.9^{|i−j|}$, take $30 \\times 30$ blocks.\n",
    "- The exponential decay model considered in Fan et al. [2009]. In this model we consider a case where no element of the concentration matrix is exactly zero. The elements of $\\Theta$ are given by $\\Theta_{ij} = \\exp{(−2|i − j|)}$ equals essentially zero when the difference |i − j| is large.\n",
    "\n",
    "For GLasso estimation, use cross-validation k-fold with loglikelihood loss to select the $\\lambda$ penalization parameter. Evaluate your estimation using the Froebenius matrix norm. \n",
    "\n",
    "For Node-regression estimation, compare your edge-estimation with the binary (thresholded) covariance matrix. Evaluate your estimation using accuracy and the F1 score. "
   ]
  },
  {
   "cell_type": "code",
   "execution_count": 21,
   "metadata": {},
   "outputs": [],
   "source": [
    "from sklearn.metrics import f1_score, accuracy_score\n",
    "from sklearn.model_selection import GridSearchCV"
   ]
  },
  {
   "cell_type": "markdown",
   "metadata": {},
   "source": [
    "### Test Data"
   ]
  },
  {
   "cell_type": "code",
   "execution_count": 74,
   "metadata": {},
   "outputs": [
    {
     "name": "stdout",
     "output_type": "stream",
     "text": [
      "(300, 300)\n",
      "(80, 300)\n"
     ]
    }
   ],
   "source": [
    "n_blocks = 10\n",
    "block_size = 30\n",
    "n = 80\n",
    "\n",
    "block = [[0.9**(abs(i - j)) for i in range(block_size)] for j in range(block_size)]\n",
    "cov = scipy.linalg.block_diag(*[block]*n_blocks)\n",
    "#print(cov)\n",
    "precision_1 = np.linalg.inv(cov)\n",
    "\n",
    "X = np.array([np.random.multivariate_normal(np.ones((n_blocks * block_size,)), cov) for _ in range(n)])\n",
    "print(X.shape)"
   ]
  },
  {
   "cell_type": "markdown",
   "metadata": {},
   "source": [
    "## Glasso"
   ]
  },
  {
   "cell_type": "markdown",
   "metadata": {},
   "source": [
    "### Choosing Parameter alpha"
   ]
  },
  {
   "cell_type": "code",
   "execution_count": 116,
   "metadata": {},
   "outputs": [],
   "source": [
    "def Frobenius_norm(estimator, y=None):\n",
    "    precision_bis = estimator.precision_\n",
    "    return np.linalg.norm(precision_bis - precision_1)\n",
    "\n",
    "def likelihood(estimator, X, y=None):\n",
    "    n_samples, n_features = X.shape\n",
    "    precision = estimator.precision_\n",
    "    det = np.linalg.det(precision)\n",
    "    if det < 1e-3:\n",
    "        det = 1e-3\n",
    "    elif det > 1e3:\n",
    "        det = 1e3\n",
    "    \n",
    "    esperance = X.mean(axis=0)\n",
    "    S = np.zeros((n_features, n_features))\n",
    "    for i in range(n_samples):\n",
    "        dev = (X[i] - esperance).reshape(-1,1)\n",
    "        S += dev@dev.T\n",
    "    S /= n_samples\n",
    "    \n",
    "    return np.log(det) - np.trace(S@precision)"
   ]
  },
  {
   "cell_type": "markdown",
   "metadata": {},
   "source": [
    "# Je crois pas que ca marche"
   ]
  },
  {
   "cell_type": "code",
   "execution_count": 115,
   "metadata": {},
   "outputs": [
    {
     "name": "stderr",
     "output_type": "stream",
     "text": [
      "C:\\Users\\inesp\\anaconda3\\lib\\site-packages\\sklearn\\model_selection\\_search.py:802: ComplexWarning: Casting complex values to real discards the imaginary part\n",
      "  array = np.array(array, dtype=np.float64).reshape(n_candidates,\n"
     ]
    },
    {
     "name": "stdout",
     "output_type": "stream",
     "text": [
      "{'alpha': 0.0001}\n",
      "-88.39643350408676\n"
     ]
    }
   ],
   "source": [
    "alpha_values = [1e-4, 1e-3,1e-3, 1e-1, 1]\n",
    "clf = GridSearchCV(estimator= MyGraphicalLasso(alpha = 1, mu = 1),\n",
    "            param_grid={'alpha': alpha_values},\n",
    "            scoring=likelihood, cv=3, n_jobs=3)\n",
    "\n",
    "# from sklearn.covariance import GraphicalLassoCV\n",
    "# clf = GraphicalLassoCV()\n",
    "clf.fit(X)\n",
    "#print(clf.alpha_)\n",
    "#print(min(clf.grid_scores_))\n",
    "\n",
    "#print(clf.get_params)\n",
    "print(clf.best_params_)\n",
    "print(clf.best_score_)"
   ]
  },
  {
   "cell_type": "markdown",
   "metadata": {},
   "source": [
    "## Nodewise Regression"
   ]
  },
  {
   "cell_type": "code",
   "execution_count": 30,
   "metadata": {},
   "outputs": [
    {
     "data": {
      "text/plain": [
       "<__main__.my_nodewise_regression at 0x1e7fa92c250>"
      ]
     },
     "execution_count": 30,
     "metadata": {},
     "output_type": "execute_result"
    }
   ],
   "source": [
    "model_nodewise_or = my_nodewise_regression(rule=\"OR\", alpha=1)\n",
    "model_nodewise_or.fit(X)\n",
    "\n",
    "model_nodewise_and = my_nodewise_regression(rule=\"AND\", alpha=1)\n",
    "model_nodewise_and.fit(X)"
   ]
  },
  {
   "cell_type": "code",
   "execution_count": 138,
   "metadata": {},
   "outputs": [],
   "source": [
    "# def edge_f1(model_precision, real_precision):   \n",
    "#     n = model_precision.shape[0]\n",
    "#     triu_indices = np.triu_indices(n)\n",
    "#     #print(model_precision)\n",
    "#     model = np.absolute(model_precision[triu_indices]) > 1e-5\n",
    "#     #print(model)\n",
    "#     real = np.absolute(real_precision[triu_indices]) > 1e-5\n",
    "#     acc = accuracy_score(real, model)\n",
    "#     #acc = accuracy_score(real_precision, model_precision)\n",
    "#     f1 = f1_score(real, model)\n",
    "#     return acc, f1\n",
    "\n",
    "def edge_f1(model_precision, real_precision):   \n",
    "    n = model_precision.shape[0]\n",
    "    model = np.absolute(model_precision) > 1e-7\n",
    "    real = np.absolute(real_precision) > 1e-7\n",
    "    acc = accuracy_score(real.flatten(), model.flatten())\n",
    "    f1 = f1_score(real.flatten(), model.flatten())\n",
    "    return acc, f1"
   ]
  },
  {
   "cell_type": "code",
   "execution_count": 139,
   "metadata": {},
   "outputs": [
    {
     "name": "stdout",
     "output_type": "stream",
     "text": [
      "The accuracy for AND model_nodewise is: 0.9911555555555556\n",
      "The f1 score for AND model_nodewise is: 0.17427385892116184\n"
     ]
    }
   ],
   "source": [
    "acc, f1 = edge_f1(model_nodewise_and.graph_structure_, precision)\n",
    "print('The accuracy for AND model_nodewise is: '+ str(acc))\n",
    "print('The f1 score for AND model_nodewise is: '+ str(f1))"
   ]
  },
  {
   "cell_type": "code",
   "execution_count": 140,
   "metadata": {},
   "outputs": [
    {
     "name": "stdout",
     "output_type": "stream",
     "text": [
      "The accuracy for OR model_nodewise is: 0.9920222222222222\n",
      "The f1 score for OR model_nodewise is: 0.3187855787476281\n"
     ]
    }
   ],
   "source": [
    "acc, f1 = edge_f1(model_nodewise_or.graph_structure_, precision)\n",
    "print('The accuracy for OR model_nodewise is: '+ str(acc))\n",
    "print('The f1 score for OR model_nodewise is: '+ str(f1))"
   ]
  },
  {
   "cell_type": "markdown",
   "metadata": {},
   "source": [
    "## Comments"
   ]
  },
  {
   "cell_type": "markdown",
   "metadata": {},
   "source": [
    "*Comment and compare the methods and the effect of the sample size.*"
   ]
  }
 ],
 "metadata": {
  "kernelspec": {
   "display_name": "Python 3",
   "language": "python",
   "name": "python3"
  },
  "language_info": {
   "codemirror_mode": {
    "name": "ipython",
    "version": 3
   },
   "file_extension": ".py",
   "mimetype": "text/x-python",
   "name": "python",
   "nbconvert_exporter": "python",
   "pygments_lexer": "ipython3",
   "version": "3.8.3"
  }
 },
 "nbformat": 4,
 "nbformat_minor": 2
}
