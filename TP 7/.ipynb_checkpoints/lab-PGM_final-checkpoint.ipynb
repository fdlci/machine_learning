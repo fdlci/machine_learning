{
 "cells": [
  {
   "cell_type": "markdown",
   "metadata": {},
   "source": [
    "# Lab 8: Graphical Models"
   ]
  },
  {
   "cell_type": "markdown",
   "metadata": {},
   "source": [
    "## Florez de la Colina Inès\n",
    "## Qabel Mohamed Aymen"
   ]
  },
  {
   "cell_type": "markdown",
   "metadata": {},
   "source": [
    "The goal of this lab session is to code two methods to estimate the structure of undirected gaussian graphical models and compare them.\n",
    "\n",
    "You have to send the filled notebook named **\"L8_familyname1_familyname2.ipynb\"** (groups of 2) by email to aml.centralesupelec.2019@gmail.com before December 12, 2019 at 23:59 and put **\"AML-L8\"** as subject. \n",
    "\n",
    "We begin with the standard imports:"
   ]
  },
  {
   "cell_type": "code",
   "execution_count": 33,
   "metadata": {},
   "outputs": [],
   "source": [
    "import numpy as np\n",
    "import matplotlib.pyplot as plt\n",
    "import seaborn as sns\n",
    "import sklearn\n",
    "%matplotlib inline\n",
    "sns.set_context('poster')\n",
    "sns.set_color_codes()\n",
    "plot_kwds = {'alpha' : 0.25, 's' : 80, 'linewidths':0}\n",
    "import warnings\n",
    "warnings.filterwarnings(\"ignore\")"
   ]
  },
  {
   "cell_type": "markdown",
   "metadata": {},
   "source": [
    "# Graphical Models"
   ]
  },
  {
   "cell_type": "markdown",
   "metadata": {},
   "source": [
    "A graphical model is a probabilistic model for which a graph expresses the conditional dependence structure between random variables. The variables are represented by nodes and the relations between them are represented by edges.\n",
    "\n",
    "## GLasso\n",
    "\n",
    "Graphical Lasso is the name of the optimization problem that estimates the precision matrix of a multivariate gaussian and its name comes from the direct link with graphical models and the regularization term. \n",
    "\n",
    "Fill in the following class that implements the GLasso algorithm optimized by ADMM:"
   ]
  },
  {
   "cell_type": "code",
   "execution_count": 110,
   "metadata": {},
   "outputs": [],
   "source": [
    "class MyGraphicalLasso():\n",
    "    \n",
    "    def __init__(self, alpha=0.01,mu=1.5, max_iter = 60):\n",
    "        '''\n",
    "        Parameters:\n",
    "        alpha : float\n",
    "            Penalization parameter selected.\n",
    "        mu: float>0\n",
    "\n",
    "        Attributes:\n",
    "        \n",
    "        covariance_ : numpy.ndarray, shape (n_features, n_features)\n",
    "            Estimated covariance matrix.\n",
    "        precision_ : numpy.ndarray, shape (n_features, n_features)\n",
    "            Estimated precision matrix (inverse covariance).\n",
    "        '''\n",
    "        self.covariance_ = None\n",
    "        self.precision_ = None\n",
    "        self.alpha = alpha\n",
    "        self.mu = mu\n",
    "        self.max_iter_ = max_iter\n",
    "        self.graph_structure_ = None\n",
    "        \n",
    "    def fit(self, X):\n",
    "        \"\"\" Fits the GraphicalLasso model to X.\n",
    "        \n",
    "        Parameters:\n",
    "        -----------\n",
    "        X: (n, p) np.array\n",
    "            Data matrix\n",
    "        \n",
    "        Returns:\n",
    "        -----\n",
    "        self\n",
    "        \"\"\"  \n",
    "        def function(mu, X):\n",
    "            eigval, eigvect =np.linalg.eig(X)\n",
    "            new_eigval =eigval + np.sqrt(eigval**2+4/mu) \n",
    "            eigval_array = np.diag(new_eigval)\n",
    "            return 0.5*eigvect@eigval_array@eigvect.T\n",
    "        \n",
    "        def ST(mu, X):\n",
    "            return np.multiply(np.sign(X),np.maximum(0,np.abs(X)-mu))\n",
    "        \n",
    "        \n",
    "        n, p = X.shape\n",
    "        mu_empi = np.mean(X, axis=0)\n",
    "        X_centered = np.zeros((n,p))\n",
    "        for i in range(n):\n",
    "            X_centered[i] = X[i]-mu_empi\n",
    "        S = X_centered.T@X_centered\n",
    "        S = S/n\n",
    "        iteration = 0 \n",
    "        \n",
    "        #Initialize Y,Z:\n",
    "        Y = np.eye(p)\n",
    "        Z = np.zeros((p,p))\n",
    "        while iteration<=self.max_iter_:\n",
    "            Gamma = function(self.mu, Y-Z-(1/self.mu)*S)\n",
    "            Y = ST(self.alpha/self.mu, Gamma+Z)\n",
    "            Z = Z + self.mu*(Gamma-Y)\n",
    "            iteration+=1\n",
    "        self.precision_ = Gamma\n",
    "        self.covariance_ = S\n",
    "        self.graph_structure_ = Gamma\n",
    "        return Gamma         "
   ]
  },
  {
   "cell_type": "code",
   "execution_count": 7,
   "metadata": {},
   "outputs": [
    {
     "name": "stdout",
     "output_type": "stream",
     "text": [
      "Estimating the precision matrix from 60 samples... \n",
      "\n"
     ]
    },
    {
     "data": {
      "image/png": "[encoded data removed]",
      "text/plain": [
       "<Figure size 1080x360 with 4 Axes>"
      ]
     },
     "metadata": {
      "needs_background": "light"
     },
     "output_type": "display_data"
    }
   ],
   "source": [
    "# Compare methods of estimating the covariance matrix in low-sample regime\n",
    "n_samples = 60\n",
    "n_features = 20\n",
    "\n",
    "print(f'Estimating the precision matrix from {n_samples} samples... \\n')\n",
    "\n",
    "\n",
    "# Simulate data (multivariate gaussian)\n",
    "from sklearn.datasets import make_sparse_spd_matrix\n",
    "rng = np.random.RandomState(1)\n",
    "prec = make_sparse_spd_matrix(n_features, alpha=.98,\n",
    "                              smallest_coef=.4,\n",
    "                              largest_coef=.7,\n",
    "                              random_state=rng)\n",
    "cov = np.linalg.inv(prec)\n",
    "mean = np.zeros(n_features)\n",
    "# np.random.seed(42)\n",
    "data = np.random.multivariate_normal(mean, cov, n_samples)\n",
    "err = np.linalg.norm(prec - prec)\n",
    "\n",
    "prec_empirical = np.linalg.inv(np.dot(data.T, data) / n_samples)\n",
    "err_empirical = np.linalg.norm(prec - prec_empirical)\n",
    "\n",
    "# Graphical Lasso with cross validation \n",
    "from sklearn.covariance import GraphicalLassoCV\n",
    "model = GraphicalLassoCV(cv=5)\n",
    "model.fit(data)\n",
    "prec_glassocv = model.precision_\n",
    "err_glassocv = np.linalg.norm(prec - prec_glassocv)\n",
    "\n",
    "# Graphical Lasso estimation using our implementation\n",
    "model = MyGraphicalLasso(mu=0.5,alpha=0.12)\n",
    "model.fit(data)\n",
    "prec_glasso = model.precision_\n",
    "err_glasso = np.linalg.norm(prec - prec_glasso)\n",
    "vmax = prec_glasso.max()\n",
    "\n",
    "\n",
    "# Visual comparison\n",
    "titles = [\"True\", \"Empirical\", \"GLASSO (us)\", \"GLASSO crossval\"]\n",
    "imgs = [prec, prec_empirical, prec_glasso, prec_glassocv]\n",
    "errors = [err, err_empirical, err_glasso, err_glassocv]\n",
    "\n",
    "ncols = len(titles)\n",
    "fig, axes = plt.subplots(1, ncols, figsize=(15, 5))\n",
    "for idx, ax in enumerate(axes.flatten()):\n",
    "    img = imgs[idx]\n",
    "    error = np.around(errors[idx], decimals=2)\n",
    "    title = titles[idx] + f'\\n error {error}'\n",
    "    ax.imshow(img, vmin=-vmax, vmax=vmax, interpolation='nearest', cmap=plt.cm.RdBu_r)\n",
    "    ax.set_title(title)\n",
    "fig.tight_layout()\n",
    "\n",
    "\n"
   ]
  },
  {
   "cell_type": "markdown",
   "metadata": {},
   "source": [
    "We can see from the above graphs that our GLasso estimator is as good as sklearn's estimator. We get an error of 1.43 (after tuning our parameters) compared to sklearn's version that gets an error of 1.57 using cross validation. For the empirical model there is some overfitting. This is why we add regularization, to avoid this problem."
   ]
  },
  {
   "cell_type": "markdown",
   "metadata": {},
   "source": [
    "Comment on the different methods' ability to recover the precision matrix structure and what that means in terms of the graph between features. "
   ]
  },
  {
   "cell_type": "markdown",
   "metadata": {},
   "source": [
    "## Nodewise Regression\n",
    "\n",
    "Fill in the following class that implements the nodewise regression algorithm to estimate a graphical model structure. You can use `LassoCV` for the regressions. Bonus (not graded): Implement your own cross-validation lasso."
   ]
  },
  {
   "cell_type": "code",
   "execution_count": 112,
   "metadata": {},
   "outputs": [],
   "source": [
    "from sklearn.linear_model import LassoCV\n",
    "from sklearn.preprocessing import normalize\n",
    "class my_nodewise_regression():\n",
    "    \n",
    "    def __init__(self, rule,tol=0.4):\n",
    "        '''\n",
    "        Parameters:\n",
    "        \n",
    "        rule: {\"OR\", \"AND\"}\n",
    "        \n",
    "        Attributes:\n",
    "        \n",
    "        covariance_structure_ : numpy.ndarray, shape (n_features, n_features)\n",
    "            Estimated covariance matrix.        \n",
    "        '''\n",
    "        self.graph_structure_ = None\n",
    "        self.rule = rule\n",
    "        self.tol_ = tol\n",
    "        \n",
    "    def fit(self, X):\n",
    "        \"\"\" Fit the model to X.\n",
    "        \n",
    "        Parameters:\n",
    "        -----------\n",
    "        X: (n, p) np.array\n",
    "            Data matrix\n",
    "        \n",
    "        Returns:\n",
    "        -----\n",
    "        self\n",
    "       \"\"\"   \n",
    "        n,p = X.shape\n",
    "        X = normalize(X)\n",
    "        Betas = np.ones((p,p))\n",
    "        for i in range(p):\n",
    "            y = X[:,i]\n",
    "            X_train = np.delete(X, i, axis = 1)\n",
    "            lasso_reg = LassoCV(cv=5, random_state=0,fit_intercept=False)\n",
    "            lasso_reg.fit(X_train,y)\n",
    "            coeffs = lasso_reg.coef_\n",
    "            Betas[i] = np.insert(coeffs, i, 1)\n",
    "\n",
    "        if self.rule == \"OR\":\n",
    "                Betas = np.absolute(Betas) > self.tol_\n",
    "                adj = Betas | Betas.T\n",
    "                \n",
    "        elif self.rule == \"AND\":\n",
    "                Betas = np.absolute(Betas) > self.tol_\n",
    "                adj = Betas & Betas.T\n",
    "            \n",
    "        self.graph_structure_=adj\n",
    "        return adj"
   ]
  },
  {
   "cell_type": "markdown",
   "metadata": {},
   "source": [
    "Generate an easy-to-check (non-trivial, p<=6) example and plot the 4 (real, GLasso, AND, OR) graphs. You can use `networkx` to plot the resulting graph."
   ]
  },
  {
   "cell_type": "markdown",
   "metadata": {},
   "source": [
    "### Testing with an easy example"
   ]
  },
  {
   "cell_type": "code",
   "execution_count": 56,
   "metadata": {},
   "outputs": [],
   "source": [
    "mu = [0, 1, -1]\n",
    "cov = np.array([\n",
    "    [1,2,0],\n",
    "    [2,1,0],\n",
    "    [0,0,1]\n",
    "])\n",
    "cov = cov.T@cov\n",
    "X = np.array([np.random.multivariate_normal(mu, cov) for i in range(50)])\n",
    "precision_matrix = np.linalg.inv(cov)   #matrix K connections of the graph"
   ]
  },
  {
   "cell_type": "code",
   "execution_count": 104,
   "metadata": {},
   "outputs": [
    {
     "data": {
      "text/plain": [
       "array([[ True,  True, False],\n",
       "       [ True,  True, False],\n",
       "       [False, False,  True]])"
      ]
     },
     "execution_count": 104,
     "metadata": {},
     "output_type": "execute_result"
    }
   ],
   "source": [
    "model_glasso = MyGraphicalLasso(alpha=0.4, mu=1)\n",
    "model_glasso.fit(X)\n",
    "\n",
    "model_nor = my_nodewise_regression(rule=\"OR\")\n",
    "model_nor.fit(X)\n",
    "\n",
    "model_nand = my_nodewise_regression(rule=\"AND\")\n",
    "model_nand.fit(X)"
   ]
  },
  {
   "cell_type": "markdown",
   "metadata": {},
   "source": [
    "We used the following code to plot the graphs"
   ]
  },
  {
   "cell_type": "code",
   "execution_count": 98,
   "metadata": {},
   "outputs": [],
   "source": [
    "import networkx as nx\n",
    "\n",
    "def drawing_graph(model, node_labels=True, edge_labels=True):\n",
    "    K = model.graph_structure_\n",
    "    G = nx.Graph()\n",
    "    G.add_nodes_from(range(K.shape[0]))\n",
    "    nonzeros = list(zip(*np.nonzero(K), [{\"weight\": K[nz]} for nz in zip(*np.nonzero(K))]))\n",
    "    G.add_edges_from(nonzeros)\n",
    "\n",
    "    pos = nx.circular_layout(G)\n",
    "    nx.draw_networkx_nodes(G, pos, alpha=0.8)\n",
    "    nx.draw_networkx_edges(G, pos, label=None, alpha=0.5)\n",
    "    if node_labels:\n",
    "        nx.draw_networkx_labels(G, pos)\n",
    "    if edge_labels:\n",
    "        edge_labels = {(u, v): \"{:.3f}\".format(d) for (u,v,d) in G.edges(data=\"weight\") if u != v}\n",
    "        nx.draw_networkx_edge_labels(G, pos, edge_labels)\n",
    "        \n",
    "def true_graph(K, node_labels=True, edge_labels=True):\n",
    "    G = nx.Graph()\n",
    "    G.add_nodes_from(range(K.shape[0]))\n",
    "\n",
    "    nonzeros = list(zip(*np.nonzero(K), [{\"weight\": K[nz]} for nz in zip(*np.nonzero(K))]))\n",
    "    G.add_edges_from(nonzeros)\n",
    "\n",
    "    pos = nx.circular_layout(G)\n",
    "    nx.draw_networkx_nodes(G, pos, alpha=0.8)\n",
    "    nx.draw_networkx_edges(G, pos, label=None, alpha=0.5)\n",
    "    if node_labels:\n",
    "        nx.draw_networkx_labels(G, pos)\n",
    "    if edge_labels:\n",
    "        edge_labels = {(u, v): \"{:.3f}\".format(d) for (u,v,d) in G.edges(data=\"weight\") if u != v}\n",
    "        nx.draw_networkx_edge_labels(G, pos, edge_labels)"
   ]
  },
  {
   "cell_type": "code",
   "execution_count": 105,
   "metadata": {},
   "outputs": [
    {
     "data": {
      "image/png": "[encoded data removed]",
      "text/plain": [
       "<Figure size 1080x720 with 4 Axes>"
      ]
     },
     "metadata": {},
     "output_type": "display_data"
    }
   ],
   "source": [
    "plt.figure(figsize=(15,10))\n",
    "\n",
    "plt.subplot(221)\n",
    "true_graph(precision_matrix)\n",
    "plt.title(\"True GGM\")\n",
    "plt.subplot(222)\n",
    "drawing_graph(model_glasso)\n",
    "plt.title(\"GLasso\")\n",
    "plt.subplot(223)\n",
    "drawing_graph(model_nand)\n",
    "plt.title(\"AND Nodewise regression\")\n",
    "plt.subplot(224)\n",
    "drawing_graph(model_nor)\n",
    "plt.title(\"OR Nodewise regression\")\n",
    "plt.show()"
   ]
  },
  {
   "cell_type": "markdown",
   "metadata": {},
   "source": [
    "We can see that Glasso makes a good prediction. The only problem is that the weight betwwen node 1 and node 0 is about half the actual weight. We expected the Glasso to predict the relationships between the nodes pretty well according to the results we got in the fist part where Glasso performed as well as sklearn's version. To avoid having two edges that connect nodes 1 and 2 and nodes 0 and 2 we could also add a threshold to Glasso, to have a better support. For the nodewise regression, all weights are set to one. The OR model gives one additional edge. This is due to OR that creates the same number or more edges than AND as OR is less restrictive. For the AND model, even if we don't get the actual value of the weight, we get the right relationships between the nodes."
   ]
  },
  {
   "cell_type": "markdown",
   "metadata": {},
   "source": [
    "## Simulations\n",
    "\n",
    "Compare the two graph estimators for each of the following models with $p = 300$ and $n = 40, 80, 320$:\n",
    "\n",
    "- An AR(1)-Block model. In this model the *covariance* matrix is block-diagonal with equalsized AR(1)-blocks of the form $(\\Sigma_{Block})_{i, j} = 0.9^{|i−j|}$, take $30 \\times 30$ blocks.\n",
    "- The exponential decay model considered in Fan et al. [2009]. In this model we consider a case where no element of the concentration matrix is exactly zero. The elements of $\\Theta$ are given by $\\Theta_{ij} = \\exp{(−2|i − j|)}$ equals essentially zero when the difference |i − j| is large.\n",
    "\n",
    "For GLasso estimation, use cross-validation k-fold with loglikelihood loss to select the $\\lambda$ penalization parameter. Evaluate your estimation using the Froebenius matrix norm. \n",
    "\n",
    "For Node-regression estimation, compare your edge-estimation with the binary (thresholded) covariance matrix. Evaluate your estimation using accuracy and the F1 score. "
   ]
  },
  {
   "cell_type": "markdown",
   "metadata": {},
   "source": [
    "## Precision Matrices"
   ]
  },
  {
   "cell_type": "code",
   "execution_count": 75,
   "metadata": {},
   "outputs": [],
   "source": [
    "#The AR1 Block:\n",
    "import scipy\n",
    "Cov_AR1_block = np.zeros((30,30))\n",
    "for i in range(30):\n",
    "    for j in range(30):\n",
    "        Cov_AR1_block[i,j] = 0.9**abs(i-j)\n",
    "list_matrix = [Cov_AR1_block]*10\n",
    "\n",
    "\n",
    "Cov_AR1 = scipy.linalg.block_diag(*list_matrix)\n",
    "precision1 = np.linalg.inv(Cov_AR1)\n",
    "\n",
    "#The exponential decay model:\n",
    "p=300\n",
    "precision2 = np.zeros((p,p))\n",
    "for i in range(p):\n",
    "    for j in range(p):\n",
    "        precision2[i,j] = np.exp(-2*abs(i-j))\n",
    "Cov_Exp = np.linalg.inv(precision2)\n",
    "\n",
    "mean = np.zeros(300)\n"
   ]
  },
  {
   "cell_type": "code",
   "execution_count": 76,
   "metadata": {},
   "outputs": [],
   "source": [
    "from sklearn.covariance import GraphicalLassoCV\n",
    "from sklearn.metrics import f1_score, accuracy_score\n",
    "from sklearn.model_selection import GridSearchCV"
   ]
  },
  {
   "cell_type": "markdown",
   "metadata": {},
   "source": [
    "### Metrics to analyse our results"
   ]
  },
  {
   "cell_type": "code",
   "execution_count": 88,
   "metadata": {},
   "outputs": [],
   "source": [
    "#Create a useful funtion for comparing the Node regression technique to the true edges:\n",
    "from sklearn.metrics import f1_score, accuracy_score\n",
    "def edge_estimator(prec,structure, threshold):\n",
    "    p,p = prec.shape\n",
    "    for i in range(p):\n",
    "        for j in range(p):\n",
    "            prec[i] = abs(prec[i])>threshold\n",
    "    structure = structure.flatten()\n",
    "    prec = prec.flatten()\n",
    "    f1 = f1_score(prec,structure)\n",
    "    accuracy = accuracy_score(prec,structure)\n",
    "    return accuracy, f1"
   ]
  },
  {
   "cell_type": "code",
   "execution_count": 106,
   "metadata": {},
   "outputs": [],
   "source": [
    "def Glasso_simulation(n):\n",
    "    X_AR = np.random.multivariate_normal(mean, Cov_AR1, n) #AR1 model\n",
    "    X_EXP = np.random.multivariate_normal(mean, Cov_Exp, n) #Exponential model\n",
    "    #Find the best alpha with CV:\n",
    "    clf_AR=GraphicalLassoCV().fit(X_AR)\n",
    "    clf_EXP=GraphicalLassoCV().fit(X_EXP)\n",
    "    #Simulate using MYGRAPHICALLASSO:\n",
    "    Glasso_AR = MyGraphicalLasso(alpha = clf_AR.alpha_)\n",
    "    Glasso_AR.fit(X_AR)\n",
    "    Glasso_EXP = MyGraphicalLasso(alpha = clf_EXP.alpha_)\n",
    "    Glasso_EXP.fit(X_AR)\n",
    "    print('For n='+str(n)+', The Frobenius Norm of the difference of precision matrices using Glasso, for AR model is....')\n",
    "    print(np.linalg.norm(precision1-Glasso_AR.precision_))\n",
    "    print('For n='+str(n)+', The Frobenius Norm of the difference of precision matrices using Glasso, for EXP model is....')\n",
    "    print(np.linalg.norm(precision2-Glasso_EXP.precision_))\n",
    "    \n",
    "def NodeReg_simulation(n):\n",
    "    X_AR = np.random.multivariate_normal(mean, Cov_AR1, n) #AR1 model\n",
    "    X_EXP = np.random.multivariate_normal(mean, Cov_Exp, n) #Exponential model\n",
    "    #OR model:\n",
    "    Nde_OR_AR = my_nodewise_regression(rule='OR')\n",
    "    Nde_OR_AR.fit(X_AR)\n",
    "    accuracy_OR_AR, f1_OR_AR = edge_estimator(precision1,Nde_OR_AR.graph_structure_, 0.4)\n",
    "    print('For n= '+str(n)+' The accuracy of estimating edges(OR) for AR model is: '+str(accuracy_OR_AR))\n",
    "    print('For n= '+str(n)+' The f1_score of estimating edges(OR) for AR model is: '+str(f1_OR_AR))\n",
    "    \n",
    "    Nde_OR_EXP = my_nodewise_regression(rule='OR')\n",
    "    Nde_OR_EXP.fit(X_EXP)\n",
    "    accuracy_OR_EXP, f1_OR_EXP = edge_estimator(precision2,Nde_OR_EXP.graph_structure_, 0.1)\n",
    "    print('For n= '+str(n)+' The accuracy of estimating edges(OR) for EXP model is: '+str(accuracy_OR_EXP))\n",
    "    print('For n= '+str(n)+' The f1_score of estimating edges(OR) for EXP model is: '+str(f1_OR_EXP))\n",
    "    #AND Model:\n",
    "    Nde_AND_AR = my_nodewise_regression(rule='AND')\n",
    "    Nde_AND_AR.fit(X_AR)\n",
    "    accuracy_AND_AR, f1_AND_AR = edge_estimator(precision1,Nde_AND_AR.graph_structure_, 0.4)\n",
    "    print('For n= '+str(n)+' The accuracy of estimating edges(AND) for AR model is: '+str(accuracy_AND_AR))\n",
    "    print('For n= '+str(n)+' The f1_score of estimating edges(AND) for AR model is: '+str(f1_AND_AR))\n",
    "    \n",
    "    Nde_AND_EXP = my_nodewise_regression(rule='AND')\n",
    "    Nde_AND_EXP.fit(X_EXP)\n",
    "    accuracy_AND_EXP, f1_AND_EXP = edge_estimator(precision2,Nde_OR_EXP.graph_structure_, 0.1)\n",
    "    print('For n= '+str(n)+' The accuracy of estimating edges(AND) for EXP model is: '+str(accuracy_AND_EXP))\n",
    "    print('For n= '+str(n)+' The f1_score of estimating edges(AND) for EXP model is: '+str(f1_AND_EXP))"
   ]
  },
  {
   "cell_type": "markdown",
   "metadata": {},
   "source": [
    "### Case N=40 "
   ]
  },
  {
   "cell_type": "code",
   "execution_count": 79,
   "metadata": {},
   "outputs": [],
   "source": [
    "n = 40"
   ]
  },
  {
   "cell_type": "code",
   "execution_count": 107,
   "metadata": {},
   "outputs": [
    {
     "name": "stdout",
     "output_type": "stream",
     "text": [
      "For n=40, The Frobenius Norm of the difference of precision matrices using Glasso, for AR model is....\n",
      "26.226049020234434\n",
      "For n=40, The Frobenius Norm of the difference of precision matrices using Glasso, for EXP model is....\n",
      "38.9610995547727\n"
     ]
    }
   ],
   "source": [
    "Glasso_simulation(n)"
   ]
  },
  {
   "cell_type": "code",
   "execution_count": 108,
   "metadata": {},
   "outputs": [
    {
     "name": "stdout",
     "output_type": "stream",
     "text": [
      "For n= 40 The accuracy of estimating edges(OR) for AR model is: 0.9957111111111111\n",
      "For n= 40 The f1_score of estimating edges(OR) for AR model is: 0.6085192697768762\n",
      "For n= 40 The accuracy of estimating edges(OR) for EXP model is: 0.9932444444444445\n",
      "For n= 40 The f1_score of estimating edges(OR) for EXP model is: 0.4966887417218543\n",
      "For n= 40 The accuracy of estimating edges(AND) for AR model is: 0.9974\n",
      "For n= 40 The f1_score of estimating edges(AND) for AR model is: 0.7194244604316548\n",
      "For n= 40 The accuracy of estimating edges(AND) for EXP model is: 0.9932444444444445\n",
      "For n= 40 The f1_score of estimating edges(AND) for EXP model is: 0.4966887417218543\n"
     ]
    }
   ],
   "source": [
    "NodeReg_simulation(n)"
   ]
  },
  {
   "cell_type": "markdown",
   "metadata": {},
   "source": [
    "### Case N=80"
   ]
  },
  {
   "cell_type": "code",
   "execution_count": 114,
   "metadata": {},
   "outputs": [],
   "source": [
    "n=80"
   ]
  },
  {
   "cell_type": "code",
   "execution_count": 252,
   "metadata": {},
   "outputs": [
    {
     "name": "stdout",
     "output_type": "stream",
     "text": [
      "For n=80, The Frobenius Norm of the difference of precision matrices using Glasso, for AR model is....\n",
      "25.52361665098247\n",
      "For n=80, The Frobenius Norm of the difference of precision matrices using Glasso, for EXP model is....\n",
      "27.46734841310072\n"
     ]
    }
   ],
   "source": [
    "Glasso_simulation(n)"
   ]
  },
  {
   "cell_type": "code",
   "execution_count": 115,
   "metadata": {},
   "outputs": [
    {
     "name": "stdout",
     "output_type": "stream",
     "text": [
      "For n= 80 The accuracy of estimating edges(OR) for AR model is: 0.9950444444444444\n",
      "For n= 80 The f1_score of estimating edges(OR) for AR model is: 0.5736137667304015\n",
      "For n= 80 The accuracy of estimating edges(OR) for EXP model is: 0.9933555555555555\n",
      "For n= 80 The f1_score of estimating edges(OR) for EXP model is: 0.5008347245409015\n",
      "For n= 80 The accuracy of estimating edges(AND) for AR model is: 0.9965777777777778\n",
      "For n= 80 The f1_score of estimating edges(AND) for AR model is: 0.6607929515418501\n",
      "For n= 80 The accuracy of estimating edges(AND) for EXP model is: 0.9933555555555555\n",
      "For n= 80 The f1_score of estimating edges(AND) for EXP model is: 0.5008347245409015\n"
     ]
    }
   ],
   "source": [
    "NodeReg_simulation(n)"
   ]
  },
  {
   "cell_type": "markdown",
   "metadata": {},
   "source": [
    "### Case N=320"
   ]
  },
  {
   "cell_type": "code",
   "execution_count": 116,
   "metadata": {},
   "outputs": [],
   "source": [
    "n=320"
   ]
  },
  {
   "cell_type": "code",
   "execution_count": 255,
   "metadata": {},
   "outputs": [
    {
     "name": "stdout",
     "output_type": "stream",
     "text": [
      "For n=320, The Frobenius Norm of the difference of precision matrices using Glasso, for AR model is....\n",
      "12.715739322508824\n",
      "For n=320, The Frobenius Norm of the difference of precision matrices using Glasso, for EXP model is....\n",
      "22.922234747106916\n"
     ]
    }
   ],
   "source": [
    "Glasso_simulation(n)"
   ]
  },
  {
   "cell_type": "code",
   "execution_count": 117,
   "metadata": {},
   "outputs": [
    {
     "name": "stdout",
     "output_type": "stream",
     "text": [
      "For n= 320 The accuracy of estimating edges(OR) for AR model is: 0.9936222222222222\n",
      "For n= 320 The f1_score of estimating edges(OR) for AR model is: 0.5110732538330494\n",
      "For n= 320 The accuracy of estimating edges(OR) for EXP model is: 0.9933555555555555\n",
      "For n= 320 The f1_score of estimating edges(OR) for EXP model is: 0.5008347245409015\n",
      "For n= 320 The accuracy of estimating edges(AND) for AR model is: 0.9938444444444444\n",
      "For n= 320 The f1_score of estimating edges(AND) for AR model is: 0.5199306759098787\n",
      "For n= 320 The accuracy of estimating edges(AND) for EXP model is: 0.9933555555555555\n",
      "For n= 320 The f1_score of estimating edges(AND) for EXP model is: 0.5008347245409015\n"
     ]
    }
   ],
   "source": [
    "NodeReg_simulation(n)"
   ]
  },
  {
   "cell_type": "markdown",
   "metadata": {},
   "source": [
    "## Comments"
   ]
  },
  {
   "cell_type": "markdown",
   "metadata": {},
   "source": [
    "According to the results we obtain using the Frobenius norm, we have that when the number of data points increases, the estimation using the GLasso gets better for the AR(1) model (the Frobenius norm decreases while n increases). It is similar for the exponential model, even though the Frobenius norm decreases slower."
   ]
  },
  {
   "cell_type": "markdown",
   "metadata": {},
   "source": [
    "According to the results we have for the Nodewise regression, we can see that we have a very high accuracy for all models. The f1 score takes into account the precision and the recall of the model. We can see that for all number of data points the values of the F1 score are very similar. For the exponential model, the score highly depends on the threshold, thus, this threshold would have to be chosen according to the problem. It should be chosen case by case."
   ]
  }
 ],
 "metadata": {
  "kernelspec": {
   "display_name": "Python 3",
   "language": "python",
   "name": "python3"
  },
  "language_info": {
   "codemirror_mode": {
    "name": "ipython",
    "version": 3
   },
   "file_extension": ".py",
   "mimetype": "text/x-python",
   "name": "python",
   "nbconvert_exporter": "python",
   "pygments_lexer": "ipython3",
   "version": "3.8.3"
  }
 },
 "nbformat": 4,
 "nbformat_minor": 2
}
